{
  "nbformat": 4,
  "nbformat_minor": 0,
  "metadata": {
    "colab": {
      "name": "Assignment1.ipynb",
      "provenance": [],
      "toc_visible": true,
      "authorship_tag": "ABX9TyM3jpOdzyxQ0UJIMqaTPzuS",
      "include_colab_link": true
    },
    "kernelspec": {
      "name": "python3",
      "display_name": "Python 3"
    },
    "language_info": {
      "name": "python"
    }
  },
  "cells": [
    {
      "cell_type": "markdown",
      "metadata": {
        "id": "view-in-github",
        "colab_type": "text"
      },
      "source": [
        "<a href=\"https://colab.research.google.com/github/ElsiSahayaRenita/Task-Assignment1-Python/blob/main/Assignment1.ipynb\" target=\"_parent\"><img src=\"https://colab.research.google.com/assets/colab-badge.svg\" alt=\"Open In Colab\"/></a>"
      ]
    },
    {
      "cell_type": "markdown",
      "source": [
        "#TASK #ASSIGNMENT1\n"
      ],
      "metadata": {
        "id": "9D0hV6kMg-dN"
      }
    },
    {
      "cell_type": "code",
      "source": [
        "#1. finbanocci series\n",
        "def finbanocci(no):\n",
        "  no1=0\n",
        "  no2=1\n",
        "  a=0\n",
        "  for i in range(no):\n",
        "    print(a, end=' ')\n",
        "    no1=no2\n",
        "    no2=a\n",
        "    a=no1+no2\n",
        "no=int(input('No of finbanocci series= '))\n",
        "finbanocci(no)"
      ],
      "metadata": {
        "id": "t7n60wPNCC0d",
        "colab": {
          "base_uri": "https://localhost:8080/"
        },
        "outputId": "d1772290-74f1-4d30-dca0-50b9a3b7121b"
      },
      "execution_count": null,
      "outputs": [
        {
          "output_type": "stream",
          "name": "stdout",
          "text": [
            "No of finbanocci series= 7\n",
            "0 1 1 2 3 5 8 "
          ]
        }
      ]
    },
    {
      "cell_type": "code",
      "source": [
        "#2. find a lcm of a list\n",
        "def lcm(x, y):\n",
        "  if(x>y):\n",
        "    greater = x\n",
        "  else:\n",
        "    greater=y\n",
        "\n",
        "  while(True):\n",
        "    if((greater%x==0) and (greater%y==0)):\n",
        "      lcm=greater\n",
        "      break\n",
        "    greater+=1\n",
        "  return lcm\n",
        "\n",
        "l=[int(val) for val in input(\"Enter the values: \").split()]\n",
        "lcm_val=lcm(l[0], l[1])\n",
        "if(len(l) > 2):\n",
        "  for i in range(2, len(l)):\n",
        "    lcm_val= lcm(lcm_val, l[i])\n",
        "print(lcm_val)"
      ],
      "metadata": {
        "colab": {
          "base_uri": "https://localhost:8080/"
        },
        "id": "0LZHqYzxCC3_",
        "outputId": "f6fa6d48-c7fc-485a-e3c9-ea56faa75be5"
      },
      "execution_count": null,
      "outputs": [
        {
          "output_type": "stream",
          "name": "stdout",
          "text": [
            "Enter the values: 22 44 66 88\n",
            "264\n"
          ]
        }
      ]
    },
    {
      "cell_type": "code",
      "source": [
        " #3. find a HCF of a list\n",
        " def hcf(x,y):\n",
        "   while(y):\n",
        "     x,y = y, x%y\n",
        "   return x\n",
        "\n",
        " l=[int(val) for val in input(\"Enter the values: \").split()]\n",
        " hcf_val=hcf(l[0],l[1])\n",
        " for i in range(2, len(l)):\n",
        "   if(len(l)==2):\n",
        "     break\n",
        "   else:\n",
        "     hcf_val=hcf(hcf_val, l[i])\n",
        "print(hcf_val)"
      ],
      "metadata": {
        "colab": {
          "base_uri": "https://localhost:8080/"
        },
        "id": "ptyR2OwqCC65",
        "outputId": "a627f110-1619-4b05-c70e-530fd7751843"
      },
      "execution_count": null,
      "outputs": [
        {
          "output_type": "stream",
          "name": "stdout",
          "text": [
            "Enter the values: 22 44 66  88\n",
            "22\n"
          ]
        }
      ]
    },
    {
      "cell_type": "code",
      "source": [
        "#4. a = [1,1,1,2,2,1,4,4,5,3,6,2,2,2,2,4]\n",
        "   #  1. max count of continuous element  \n",
        "   #  2. output is 4 \n",
        "   #  3. ONLY THE COUNT BUT NOT THE ELEMENTS\n",
        "a = [1,1,1,2,2,1,4,4,5,3,6,2,2,2,2,4]\n",
        "c= 0 \n",
        "res=[]\n",
        "for i in range(0,len(a)-1):\n",
        "  if(a[i]==a[i+1]):\n",
        "    res.append(a[i])\n",
        "print(len(list(set(res)))+1)"
      ],
      "metadata": {
        "colab": {
          "base_uri": "https://localhost:8080/"
        },
        "id": "n4XBuzrmCC9r",
        "outputId": "c3e27084-0e52-416c-b218-fbdde46f8ca6"
      },
      "execution_count": null,
      "outputs": [
        {
          "output_type": "stream",
          "name": "stdout",
          "text": [
            "4\n"
          ]
        }
      ]
    },
    {
      "cell_type": "code",
      "source": [
        "#5. a = 12345\n",
        " #   1. output should be 54321\n",
        "  #  2. withoud converting this integer to string in no case.\n",
        "n=12345\n",
        "rev=0\n",
        "while(n>0):\n",
        "  rev = rev*10+(n%10)\n",
        "  n=n//10\n",
        "print(rev)"
      ],
      "metadata": {
        "colab": {
          "base_uri": "https://localhost:8080/"
        },
        "id": "fs7SPD9PCDAV",
        "outputId": "a3b41a6f-5f1c-47b7-c5fa-9bf9f2037dd1"
      },
      "execution_count": null,
      "outputs": [
        {
          "output_type": "stream",
          "name": "stdout",
          "text": [
            "54321\n"
          ]
        }
      ]
    },
    {
      "cell_type": "code",
      "source": [
        "#6. in any list to tell wether the numbers are in ascending order or not\n",
        "    #1. [1,2,3,4,5,6] output = True\n",
        "    #2. [1,2,3,5,6,7] output = Flase\n",
        "l=[int(val) for val in input(\"Enter the values:  \").split()]\n",
        "if(l==list(range(1,8))):\n",
        "  print(True)\n",
        "else:\n",
        "  print(False)"
      ],
      "metadata": {
        "colab": {
          "base_uri": "https://localhost:8080/"
        },
        "id": "um683XaxCDC9",
        "outputId": "74807434-6a98-4ee4-8ec4-11ee75958ee7"
      },
      "execution_count": null,
      "outputs": [
        {
          "output_type": "stream",
          "name": "stdout",
          "text": [
            "Enter the values:  1 2 3 4 5 6 7\n",
            "True\n"
          ]
        }
      ]
    },
    {
      "cell_type": "code",
      "source": [
        "#7. You are given a sentence, and want to shift each letter by 2 in alphabet to create a secret code. \n",
        "#The sentence you want to encode is the lazy dog jumped over the quick brown fox and the output should be ’vjg ncba fqi lworgf qxgt vjg swkem dtqyp hqz’\n",
        "a='The lazy dog jumped over the quick brown fox'\n",
        "for j in a.split():\n",
        " for i in j:\n",
        "   v=[]\n",
        "   if (type(i)==str):\n",
        "    if (i =='z'):\n",
        "      v.append(ord('b'))\n",
        "    elif(i=='y'):\n",
        "      v.append(ord('a'))\n",
        "    else:\n",
        "     v.append(ord(i)+2)\n",
        "   for k in v:\n",
        "    print(chr(k), end='')\n",
        " print(end=' ')"
      ],
      "metadata": {
        "colab": {
          "base_uri": "https://localhost:8080/"
        },
        "id": "lG6vG2omCDF0",
        "outputId": "4e901516-7b0c-42f5-cbb8-a00db8eac93e"
      },
      "execution_count": null,
      "outputs": [
        {
          "output_type": "stream",
          "name": "stdout",
          "text": [
            "Vjg ncba fqi lworgf qxgt vjg swkem dtqyp hqz "
          ]
        }
      ]
    },
    {
      "cell_type": "code",
      "source": [
        "\n",
        "#8. converts minutes to seconds.\n",
        "time_in_minutes=int(input('enter the time in minutes= '))\n",
        "time_converted= float(time_in_minutes* 60)\n",
        "print(f\"{time_converted} seconds\")"
      ],
      "metadata": {
        "colab": {
          "base_uri": "https://localhost:8080/"
        },
        "id": "PNuYtqokCDIc",
        "outputId": "f6a39ec9-ad90-4681-d521-ecee087f7dd3"
      },
      "execution_count": null,
      "outputs": [
        {
          "output_type": "stream",
          "name": "stdout",
          "text": [
            "enter the time in minutes= 55\n",
            "3300.0 seconds\n"
          ]
        }
      ]
    },
    {
      "cell_type": "code",
      "source": [
        "#9. Converts age in years to days\n",
        "from datetime import date\n",
        "year=int(input(\"Enter your birth year: \"))\n",
        "month=int(input(\"Enter your birth month: \"))\n",
        "day=int(input(\"Enter your birth day: \"))\n",
        "my_dob=date(year,month,day)\n",
        "diff=date.today()- my_dob\n",
        "print(diff.days)\n"
      ],
      "metadata": {
        "colab": {
          "base_uri": "https://localhost:8080/"
        },
        "id": "z3Ce7XJYCDLF",
        "outputId": "7111be4a-2033-42bf-ca50-a11d6645fac2"
      },
      "execution_count": null,
      "outputs": [
        {
          "output_type": "stream",
          "name": "stdout",
          "text": [
            "Enter your birth year: 2000\n",
            "Enter your birth month: 12\n",
            "Enter your birth day: 3\n",
            "7710\n"
          ]
        }
      ]
    },
    {
      "cell_type": "code",
      "source": [
        ""
      ],
      "metadata": {
        "id": "7E2aI8jYDeGc"
      },
      "execution_count": null,
      "outputs": []
    }
  ]
}